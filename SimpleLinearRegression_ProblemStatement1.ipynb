{
 "cells": [
  {
   "cell_type": "markdown",
   "id": "c005f1f6",
   "metadata": {},
   "source": [
    "Build a simple linear regression model by performing EDA and do necessary transformations and \n",
    "select the best model using R or Python.\n",
    "1)Delivery_time -> Predict delivery time using sorting time "
   ]
  },
  {
   "cell_type": "code",
   "execution_count": 1,
   "id": "ee38c089",
   "metadata": {
    "ExecuteTime": {
     "end_time": "2021-09-24T08:53:47.765929Z",
     "start_time": "2021-09-24T08:53:46.174177Z"
    }
   },
   "outputs": [],
   "source": [
    "import pandas as pd \n",
    "import matplotlib.pyplot as plt\n",
    "import statsmodels.formula.api as smf\n",
    "import seaborn as sns\n",
    "import numpy as np\n",
    "from sklearn.model_selection import train_test_split\n",
    "from sklearn.linear_model import LinearRegression\n",
    "from sklearn.metrics import r2_score,mean_squared_error"
   ]
  },
  {
   "cell_type": "code",
   "execution_count": 2,
   "id": "abfad2d9",
   "metadata": {
    "ExecuteTime": {
     "end_time": "2021-09-24T08:53:47.797813Z",
     "start_time": "2021-09-24T08:53:47.765929Z"
    }
   },
   "outputs": [
    {
     "data": {
      "text/html": [
       "<div>\n",
       "<style scoped>\n",
       "    .dataframe tbody tr th:only-of-type {\n",
       "        vertical-align: middle;\n",
       "    }\n",
       "\n",
       "    .dataframe tbody tr th {\n",
       "        vertical-align: top;\n",
       "    }\n",
       "\n",
       "    .dataframe thead th {\n",
       "        text-align: right;\n",
       "    }\n",
       "</style>\n",
       "<table border=\"1\" class=\"dataframe\">\n",
       "  <thead>\n",
       "    <tr style=\"text-align: right;\">\n",
       "      <th></th>\n",
       "      <th>Delivery Time</th>\n",
       "      <th>Sorting Time</th>\n",
       "    </tr>\n",
       "  </thead>\n",
       "  <tbody>\n",
       "    <tr>\n",
       "      <th>0</th>\n",
       "      <td>21.00</td>\n",
       "      <td>10</td>\n",
       "    </tr>\n",
       "    <tr>\n",
       "      <th>1</th>\n",
       "      <td>13.50</td>\n",
       "      <td>4</td>\n",
       "    </tr>\n",
       "    <tr>\n",
       "      <th>2</th>\n",
       "      <td>19.75</td>\n",
       "      <td>6</td>\n",
       "    </tr>\n",
       "    <tr>\n",
       "      <th>3</th>\n",
       "      <td>24.00</td>\n",
       "      <td>9</td>\n",
       "    </tr>\n",
       "    <tr>\n",
       "      <th>4</th>\n",
       "      <td>29.00</td>\n",
       "      <td>10</td>\n",
       "    </tr>\n",
       "    <tr>\n",
       "      <th>5</th>\n",
       "      <td>15.35</td>\n",
       "      <td>6</td>\n",
       "    </tr>\n",
       "    <tr>\n",
       "      <th>6</th>\n",
       "      <td>19.00</td>\n",
       "      <td>7</td>\n",
       "    </tr>\n",
       "    <tr>\n",
       "      <th>7</th>\n",
       "      <td>9.50</td>\n",
       "      <td>3</td>\n",
       "    </tr>\n",
       "    <tr>\n",
       "      <th>8</th>\n",
       "      <td>17.90</td>\n",
       "      <td>10</td>\n",
       "    </tr>\n",
       "    <tr>\n",
       "      <th>9</th>\n",
       "      <td>18.75</td>\n",
       "      <td>9</td>\n",
       "    </tr>\n",
       "    <tr>\n",
       "      <th>10</th>\n",
       "      <td>19.83</td>\n",
       "      <td>8</td>\n",
       "    </tr>\n",
       "    <tr>\n",
       "      <th>11</th>\n",
       "      <td>10.75</td>\n",
       "      <td>4</td>\n",
       "    </tr>\n",
       "    <tr>\n",
       "      <th>12</th>\n",
       "      <td>16.68</td>\n",
       "      <td>7</td>\n",
       "    </tr>\n",
       "    <tr>\n",
       "      <th>13</th>\n",
       "      <td>11.50</td>\n",
       "      <td>3</td>\n",
       "    </tr>\n",
       "    <tr>\n",
       "      <th>14</th>\n",
       "      <td>12.03</td>\n",
       "      <td>3</td>\n",
       "    </tr>\n",
       "    <tr>\n",
       "      <th>15</th>\n",
       "      <td>14.88</td>\n",
       "      <td>4</td>\n",
       "    </tr>\n",
       "    <tr>\n",
       "      <th>16</th>\n",
       "      <td>13.75</td>\n",
       "      <td>6</td>\n",
       "    </tr>\n",
       "    <tr>\n",
       "      <th>17</th>\n",
       "      <td>18.11</td>\n",
       "      <td>7</td>\n",
       "    </tr>\n",
       "    <tr>\n",
       "      <th>18</th>\n",
       "      <td>8.00</td>\n",
       "      <td>2</td>\n",
       "    </tr>\n",
       "    <tr>\n",
       "      <th>19</th>\n",
       "      <td>17.83</td>\n",
       "      <td>7</td>\n",
       "    </tr>\n",
       "    <tr>\n",
       "      <th>20</th>\n",
       "      <td>21.50</td>\n",
       "      <td>5</td>\n",
       "    </tr>\n",
       "  </tbody>\n",
       "</table>\n",
       "</div>"
      ],
      "text/plain": [
       "    Delivery Time  Sorting Time\n",
       "0           21.00            10\n",
       "1           13.50             4\n",
       "2           19.75             6\n",
       "3           24.00             9\n",
       "4           29.00            10\n",
       "5           15.35             6\n",
       "6           19.00             7\n",
       "7            9.50             3\n",
       "8           17.90            10\n",
       "9           18.75             9\n",
       "10          19.83             8\n",
       "11          10.75             4\n",
       "12          16.68             7\n",
       "13          11.50             3\n",
       "14          12.03             3\n",
       "15          14.88             4\n",
       "16          13.75             6\n",
       "17          18.11             7\n",
       "18           8.00             2\n",
       "19          17.83             7\n",
       "20          21.50             5"
      ]
     },
     "execution_count": 2,
     "metadata": {},
     "output_type": "execute_result"
    }
   ],
   "source": [
    "time_data=pd.read_csv(\"delivery_time.csv\")\n",
    "time_data"
   ]
  },
  {
   "cell_type": "markdown",
   "id": "ad2ad734",
   "metadata": {},
   "source": [
    "### Initial Investigation"
   ]
  },
  {
   "cell_type": "code",
   "execution_count": 3,
   "id": "d53e1cbb",
   "metadata": {
    "ExecuteTime": {
     "end_time": "2021-09-24T08:53:47.813908Z",
     "start_time": "2021-09-24T08:53:47.797813Z"
    }
   },
   "outputs": [
    {
     "data": {
      "text/plain": [
       "(21, 2)"
      ]
     },
     "execution_count": 3,
     "metadata": {},
     "output_type": "execute_result"
    }
   ],
   "source": [
    "time_data.shape"
   ]
  },
  {
   "cell_type": "code",
   "execution_count": 4,
   "id": "8d49591a",
   "metadata": {
    "ExecuteTime": {
     "end_time": "2021-09-24T08:53:47.829797Z",
     "start_time": "2021-09-24T08:53:47.813908Z"
    }
   },
   "outputs": [
    {
     "name": "stdout",
     "output_type": "stream",
     "text": [
      "<class 'pandas.core.frame.DataFrame'>\n",
      "RangeIndex: 21 entries, 0 to 20\n",
      "Data columns (total 2 columns):\n",
      " #   Column         Non-Null Count  Dtype  \n",
      "---  ------         --------------  -----  \n",
      " 0   Delivery Time  21 non-null     float64\n",
      " 1   Sorting Time   21 non-null     int64  \n",
      "dtypes: float64(1), int64(1)\n",
      "memory usage: 464.0 bytes\n"
     ]
    }
   ],
   "source": [
    "time_data.info()"
   ]
  },
  {
   "cell_type": "code",
   "execution_count": 5,
   "id": "d64b66c9",
   "metadata": {
    "ExecuteTime": {
     "end_time": "2021-09-24T08:53:47.845795Z",
     "start_time": "2021-09-24T08:53:47.829797Z"
    }
   },
   "outputs": [
    {
     "data": {
      "text/plain": [
       "Delivery Time    0\n",
       "Sorting Time     0\n",
       "dtype: int64"
      ]
     },
     "execution_count": 5,
     "metadata": {},
     "output_type": "execute_result"
    }
   ],
   "source": [
    "time_data.isnull().sum()"
   ]
  },
  {
   "cell_type": "code",
   "execution_count": 6,
   "id": "1f5c6585",
   "metadata": {
    "ExecuteTime": {
     "end_time": "2021-09-24T08:53:47.861785Z",
     "start_time": "2021-09-24T08:53:47.845795Z"
    }
   },
   "outputs": [
    {
     "data": {
      "text/plain": [
       "Delivery Time    float64\n",
       "Sorting Time       int64\n",
       "dtype: object"
      ]
     },
     "execution_count": 6,
     "metadata": {},
     "output_type": "execute_result"
    }
   ],
   "source": [
    "time_data.dtypes"
   ]
  },
  {
   "cell_type": "markdown",
   "id": "72bb63e2",
   "metadata": {},
   "source": [
    "### Data Preprocessing"
   ]
  },
  {
   "cell_type": "code",
   "execution_count": 7,
   "id": "75a18d6f",
   "metadata": {
    "ExecuteTime": {
     "end_time": "2021-09-24T08:53:47.877776Z",
     "start_time": "2021-09-24T08:53:47.861785Z"
    }
   },
   "outputs": [
    {
     "data": {
      "text/html": [
       "<div>\n",
       "<style scoped>\n",
       "    .dataframe tbody tr th:only-of-type {\n",
       "        vertical-align: middle;\n",
       "    }\n",
       "\n",
       "    .dataframe tbody tr th {\n",
       "        vertical-align: top;\n",
       "    }\n",
       "\n",
       "    .dataframe thead th {\n",
       "        text-align: right;\n",
       "    }\n",
       "</style>\n",
       "<table border=\"1\" class=\"dataframe\">\n",
       "  <thead>\n",
       "    <tr style=\"text-align: right;\">\n",
       "      <th></th>\n",
       "      <th>Delivery_time</th>\n",
       "      <th>Sorting_time</th>\n",
       "    </tr>\n",
       "  </thead>\n",
       "  <tbody>\n",
       "    <tr>\n",
       "      <th>0</th>\n",
       "      <td>21.00</td>\n",
       "      <td>10</td>\n",
       "    </tr>\n",
       "    <tr>\n",
       "      <th>1</th>\n",
       "      <td>13.50</td>\n",
       "      <td>4</td>\n",
       "    </tr>\n",
       "    <tr>\n",
       "      <th>2</th>\n",
       "      <td>19.75</td>\n",
       "      <td>6</td>\n",
       "    </tr>\n",
       "    <tr>\n",
       "      <th>3</th>\n",
       "      <td>24.00</td>\n",
       "      <td>9</td>\n",
       "    </tr>\n",
       "    <tr>\n",
       "      <th>4</th>\n",
       "      <td>29.00</td>\n",
       "      <td>10</td>\n",
       "    </tr>\n",
       "    <tr>\n",
       "      <th>5</th>\n",
       "      <td>15.35</td>\n",
       "      <td>6</td>\n",
       "    </tr>\n",
       "    <tr>\n",
       "      <th>6</th>\n",
       "      <td>19.00</td>\n",
       "      <td>7</td>\n",
       "    </tr>\n",
       "    <tr>\n",
       "      <th>7</th>\n",
       "      <td>9.50</td>\n",
       "      <td>3</td>\n",
       "    </tr>\n",
       "    <tr>\n",
       "      <th>8</th>\n",
       "      <td>17.90</td>\n",
       "      <td>10</td>\n",
       "    </tr>\n",
       "    <tr>\n",
       "      <th>9</th>\n",
       "      <td>18.75</td>\n",
       "      <td>9</td>\n",
       "    </tr>\n",
       "    <tr>\n",
       "      <th>10</th>\n",
       "      <td>19.83</td>\n",
       "      <td>8</td>\n",
       "    </tr>\n",
       "    <tr>\n",
       "      <th>11</th>\n",
       "      <td>10.75</td>\n",
       "      <td>4</td>\n",
       "    </tr>\n",
       "    <tr>\n",
       "      <th>12</th>\n",
       "      <td>16.68</td>\n",
       "      <td>7</td>\n",
       "    </tr>\n",
       "    <tr>\n",
       "      <th>13</th>\n",
       "      <td>11.50</td>\n",
       "      <td>3</td>\n",
       "    </tr>\n",
       "    <tr>\n",
       "      <th>14</th>\n",
       "      <td>12.03</td>\n",
       "      <td>3</td>\n",
       "    </tr>\n",
       "    <tr>\n",
       "      <th>15</th>\n",
       "      <td>14.88</td>\n",
       "      <td>4</td>\n",
       "    </tr>\n",
       "    <tr>\n",
       "      <th>16</th>\n",
       "      <td>13.75</td>\n",
       "      <td>6</td>\n",
       "    </tr>\n",
       "    <tr>\n",
       "      <th>17</th>\n",
       "      <td>18.11</td>\n",
       "      <td>7</td>\n",
       "    </tr>\n",
       "    <tr>\n",
       "      <th>18</th>\n",
       "      <td>8.00</td>\n",
       "      <td>2</td>\n",
       "    </tr>\n",
       "    <tr>\n",
       "      <th>19</th>\n",
       "      <td>17.83</td>\n",
       "      <td>7</td>\n",
       "    </tr>\n",
       "    <tr>\n",
       "      <th>20</th>\n",
       "      <td>21.50</td>\n",
       "      <td>5</td>\n",
       "    </tr>\n",
       "  </tbody>\n",
       "</table>\n",
       "</div>"
      ],
      "text/plain": [
       "    Delivery_time  Sorting_time\n",
       "0           21.00            10\n",
       "1           13.50             4\n",
       "2           19.75             6\n",
       "3           24.00             9\n",
       "4           29.00            10\n",
       "5           15.35             6\n",
       "6           19.00             7\n",
       "7            9.50             3\n",
       "8           17.90            10\n",
       "9           18.75             9\n",
       "10          19.83             8\n",
       "11          10.75             4\n",
       "12          16.68             7\n",
       "13          11.50             3\n",
       "14          12.03             3\n",
       "15          14.88             4\n",
       "16          13.75             6\n",
       "17          18.11             7\n",
       "18           8.00             2\n",
       "19          17.83             7\n",
       "20          21.50             5"
      ]
     },
     "execution_count": 7,
     "metadata": {},
     "output_type": "execute_result"
    }
   ],
   "source": [
    "time_data=time_data.rename({'Delivery Time':'Delivery_time','Sorting Time':'Sorting_time'},axis=1)\n",
    "time_data"
   ]
  },
  {
   "cell_type": "markdown",
   "id": "b30d5fc9",
   "metadata": {},
   "source": [
    "### Assumptions Check"
   ]
  },
  {
   "cell_type": "code",
   "execution_count": 8,
   "id": "9a36083e",
   "metadata": {
    "ExecuteTime": {
     "end_time": "2021-09-24T08:53:47.999745Z",
     "start_time": "2021-09-24T08:53:47.879548Z"
    }
   },
   "outputs": [
    {
     "data": {
      "text/plain": [
       "<matplotlib.collections.PathCollection at 0x2cf3e912ee0>"
      ]
     },
     "execution_count": 8,
     "metadata": {},
     "output_type": "execute_result"
    },
    {
     "data": {
      "image/png": "[encoded data removed]",
      "text/plain": [
       "<Figure size 432x288 with 1 Axes>"
      ]
     },
     "metadata": {
      "needs_background": "light"
     },
     "output_type": "display_data"
    }
   ],
   "source": [
    "plt.scatter(x='Sorting_time',y='Delivery_time',data=time_data)"
   ]
  },
  {
   "cell_type": "code",
   "execution_count": 9,
   "id": "a02893ac",
   "metadata": {
    "ExecuteTime": {
     "end_time": "2021-09-24T08:53:48.023735Z",
     "start_time": "2021-09-24T08:53:47.999745Z"
    }
   },
   "outputs": [
    {
     "data": {
      "text/html": [
       "<div>\n",
       "<style scoped>\n",
       "    .dataframe tbody tr th:only-of-type {\n",
       "        vertical-align: middle;\n",
       "    }\n",
       "\n",
       "    .dataframe tbody tr th {\n",
       "        vertical-align: top;\n",
       "    }\n",
       "\n",
       "    .dataframe thead th {\n",
       "        text-align: right;\n",
       "    }\n",
       "</style>\n",
       "<table border=\"1\" class=\"dataframe\">\n",
       "  <thead>\n",
       "    <tr style=\"text-align: right;\">\n",
       "      <th></th>\n",
       "      <th>Delivery_time</th>\n",
       "      <th>Sorting_time</th>\n",
       "    </tr>\n",
       "  </thead>\n",
       "  <tbody>\n",
       "    <tr>\n",
       "      <th>Delivery_time</th>\n",
       "      <td>1.000000</td>\n",
       "      <td>0.825997</td>\n",
       "    </tr>\n",
       "    <tr>\n",
       "      <th>Sorting_time</th>\n",
       "      <td>0.825997</td>\n",
       "      <td>1.000000</td>\n",
       "    </tr>\n",
       "  </tbody>\n",
       "</table>\n",
       "</div>"
      ],
      "text/plain": [
       "               Delivery_time  Sorting_time\n",
       "Delivery_time       1.000000      0.825997\n",
       "Sorting_time        0.825997      1.000000"
      ]
     },
     "execution_count": 9,
     "metadata": {},
     "output_type": "execute_result"
    }
   ],
   "source": [
    "time_data.corr()"
   ]
  },
  {
   "cell_type": "markdown",
   "id": "68762df2",
   "metadata": {},
   "source": [
    "### Model Building and Model Training"
   ]
  },
  {
   "cell_type": "code",
   "execution_count": 10,
   "id": "c5924625",
   "metadata": {
    "ExecuteTime": {
     "end_time": "2021-09-24T08:53:48.039722Z",
     "start_time": "2021-09-24T08:53:48.023735Z"
    }
   },
   "outputs": [],
   "source": [
    "model=smf.ols(\"Delivery_time~Sorting_time\",data=time_data).fit()"
   ]
  },
  {
   "cell_type": "code",
   "execution_count": 11,
   "id": "96790ab2",
   "metadata": {
    "ExecuteTime": {
     "end_time": "2021-09-24T08:53:48.225858Z",
     "start_time": "2021-09-24T08:53:48.039722Z"
    }
   },
   "outputs": [
    {
     "data": {
      "text/plain": [
       "<AxesSubplot:xlabel='Sorting_time', ylabel='Delivery_time'>"
      ]
     },
     "execution_count": 11,
     "metadata": {},
     "output_type": "execute_result"
    },
    {
     "data": {
      "image/png": "[encoded data removed]",
      "text/plain": [
       "<Figure size 432x288 with 1 Axes>"
      ]
     },
     "metadata": {
      "needs_background": "light"
     },
     "output_type": "display_data"
    }
   ],
   "source": [
    "sns.regplot(x='Sorting_time',y='Delivery_time',data=time_data)"
   ]
  },
  {
   "cell_type": "code",
   "execution_count": 12,
   "id": "888ba477",
   "metadata": {
    "ExecuteTime": {
     "end_time": "2021-09-24T08:53:48.241850Z",
     "start_time": "2021-09-24T08:53:48.225858Z"
    }
   },
   "outputs": [
    {
     "data": {
      "text/plain": [
       "Intercept       6.582734\n",
       "Sorting_time    1.649020\n",
       "dtype: float64"
      ]
     },
     "execution_count": 12,
     "metadata": {},
     "output_type": "execute_result"
    }
   ],
   "source": [
    "model.params"
   ]
  },
  {
   "cell_type": "code",
   "execution_count": 13,
   "id": "8664de19",
   "metadata": {
    "ExecuteTime": {
     "end_time": "2021-09-24T08:53:48.249842Z",
     "start_time": "2021-09-24T08:53:48.241850Z"
    }
   },
   "outputs": [
    {
     "data": {
      "text/plain": [
       "Intercept       0.001147\n",
       "Sorting_time    0.000004\n",
       "dtype: float64"
      ]
     },
     "execution_count": 13,
     "metadata": {},
     "output_type": "execute_result"
    }
   ],
   "source": [
    "model.pvalues"
   ]
  },
  {
   "cell_type": "markdown",
   "id": "7379c6d8",
   "metadata": {},
   "source": [
    "### Model Testing"
   ]
  },
  {
   "cell_type": "markdown",
   "id": "d2b222df",
   "metadata": {},
   "source": [
    "Manual Calculation"
   ]
  },
  {
   "cell_type": "code",
   "execution_count": 14,
   "id": "fecc83eb",
   "metadata": {
    "ExecuteTime": {
     "end_time": "2021-09-24T08:53:48.265837Z",
     "start_time": "2021-09-24T08:53:48.249842Z"
    }
   },
   "outputs": [],
   "source": [
    "#y=mx+c\n",
    "#If x=5 then y=1.649020*5+6.582734\n",
    "#            y=14.827"
   ]
  },
  {
   "cell_type": "markdown",
   "id": "04aff74c",
   "metadata": {},
   "source": [
    "Machine Prediction"
   ]
  },
  {
   "cell_type": "code",
   "execution_count": 15,
   "id": "98424916",
   "metadata": {
    "ExecuteTime": {
     "end_time": "2021-09-24T08:53:48.281831Z",
     "start_time": "2021-09-24T08:53:48.265837Z"
    }
   },
   "outputs": [
    {
     "data": {
      "text/html": [
       "<div>\n",
       "<style scoped>\n",
       "    .dataframe tbody tr th:only-of-type {\n",
       "        vertical-align: middle;\n",
       "    }\n",
       "\n",
       "    .dataframe tbody tr th {\n",
       "        vertical-align: top;\n",
       "    }\n",
       "\n",
       "    .dataframe thead th {\n",
       "        text-align: right;\n",
       "    }\n",
       "</style>\n",
       "<table border=\"1\" class=\"dataframe\">\n",
       "  <thead>\n",
       "    <tr style=\"text-align: right;\">\n",
       "      <th></th>\n",
       "      <th>Sorting_time</th>\n",
       "    </tr>\n",
       "  </thead>\n",
       "  <tbody>\n",
       "    <tr>\n",
       "      <th>0</th>\n",
       "      <td>2</td>\n",
       "    </tr>\n",
       "    <tr>\n",
       "      <th>1</th>\n",
       "      <td>5</td>\n",
       "    </tr>\n",
       "    <tr>\n",
       "      <th>2</th>\n",
       "      <td>7</td>\n",
       "    </tr>\n",
       "  </tbody>\n",
       "</table>\n",
       "</div>"
      ],
      "text/plain": [
       "   Sorting_time\n",
       "0             2\n",
       "1             5\n",
       "2             7"
      ]
     },
     "execution_count": 15,
     "metadata": {},
     "output_type": "execute_result"
    }
   ],
   "source": [
    "test_data=pd.DataFrame({'Sorting_time':[2,5,7]})\n",
    "test_data"
   ]
  },
  {
   "cell_type": "code",
   "execution_count": 16,
   "id": "b88f9aa1",
   "metadata": {
    "ExecuteTime": {
     "end_time": "2021-09-24T08:53:48.297824Z",
     "start_time": "2021-09-24T08:53:48.281831Z"
    }
   },
   "outputs": [
    {
     "data": {
      "text/plain": [
       "0     9.880774\n",
       "1    14.827833\n",
       "2    18.125873\n",
       "dtype: float64"
      ]
     },
     "execution_count": 16,
     "metadata": {},
     "output_type": "execute_result"
    }
   ],
   "source": [
    "model.predict(test_data)"
   ]
  },
  {
   "cell_type": "markdown",
   "id": "8419980f",
   "metadata": {},
   "source": [
    "### Model Evaluation"
   ]
  },
  {
   "cell_type": "code",
   "execution_count": 17,
   "id": "1a26193d",
   "metadata": {
    "ExecuteTime": {
     "end_time": "2021-09-24T08:53:48.313820Z",
     "start_time": "2021-09-24T08:53:48.297824Z"
    }
   },
   "outputs": [
    {
     "name": "stdout",
     "output_type": "stream",
     "text": [
      "R2 score is 0.6822714748417231.\n",
      "Mean Squared Error is 351.43283843211566.\n"
     ]
    }
   ],
   "source": [
    "print(\"R2 score is {}.\".format(model.rsquared))\n",
    "print(\"Mean Squared Error is {}.\".format(model.mse_model))"
   ]
  },
  {
   "cell_type": "markdown",
   "id": "39c784b0",
   "metadata": {},
   "source": [
    "### Data Transformation-log transformation"
   ]
  },
  {
   "cell_type": "code",
   "execution_count": 18,
   "id": "5d59acd5",
   "metadata": {
    "ExecuteTime": {
     "end_time": "2021-09-24T08:53:48.329814Z",
     "start_time": "2021-09-24T08:53:48.313820Z"
    }
   },
   "outputs": [
    {
     "data": {
      "text/plain": [
       "array([[2.30258509],\n",
       "       [1.38629436],\n",
       "       [1.79175947],\n",
       "       [2.19722458],\n",
       "       [2.30258509],\n",
       "       [1.79175947],\n",
       "       [1.94591015],\n",
       "       [1.09861229],\n",
       "       [2.30258509],\n",
       "       [2.19722458],\n",
       "       [2.07944154],\n",
       "       [1.38629436],\n",
       "       [1.94591015],\n",
       "       [1.09861229],\n",
       "       [1.09861229],\n",
       "       [1.38629436],\n",
       "       [1.79175947],\n",
       "       [1.94591015],\n",
       "       [0.69314718],\n",
       "       [1.94591015],\n",
       "       [1.60943791]])"
      ]
     },
     "execution_count": 18,
     "metadata": {},
     "output_type": "execute_result"
    }
   ],
   "source": [
    "X_log = np.log(time_data['Sorting_time'].values.reshape(-1,1))\n",
    "X_log"
   ]
  },
  {
   "cell_type": "code",
   "execution_count": 19,
   "id": "7dd44662",
   "metadata": {
    "ExecuteTime": {
     "end_time": "2021-09-24T08:53:48.345808Z",
     "start_time": "2021-09-24T08:53:48.329814Z"
    }
   },
   "outputs": [
    {
     "data": {
      "text/plain": [
       "array([[21.  ],\n",
       "       [13.5 ],\n",
       "       [19.75],\n",
       "       [24.  ],\n",
       "       [29.  ],\n",
       "       [15.35],\n",
       "       [19.  ],\n",
       "       [ 9.5 ],\n",
       "       [17.9 ],\n",
       "       [18.75],\n",
       "       [19.83],\n",
       "       [10.75],\n",
       "       [16.68],\n",
       "       [11.5 ],\n",
       "       [12.03],\n",
       "       [14.88],\n",
       "       [13.75],\n",
       "       [18.11],\n",
       "       [ 8.  ],\n",
       "       [17.83],\n",
       "       [21.5 ]])"
      ]
     },
     "execution_count": 19,
     "metadata": {},
     "output_type": "execute_result"
    }
   ],
   "source": [
    "y_log =time_data['Delivery_time'].values.reshape(-1,1)\n",
    "y_log"
   ]
  },
  {
   "cell_type": "markdown",
   "id": "97d9ea85",
   "metadata": {},
   "source": [
    "### Model Building"
   ]
  },
  {
   "cell_type": "code",
   "execution_count": 20,
   "id": "6423880c",
   "metadata": {
    "ExecuteTime": {
     "end_time": "2021-09-24T08:53:48.361799Z",
     "start_time": "2021-09-24T08:53:48.345808Z"
    }
   },
   "outputs": [],
   "source": [
    "X_train_log,X_test_log,Y_train_log,Y_test_log=train_test_split(X_log,y_log,random_state=123,test_size=0.20)"
   ]
  },
  {
   "cell_type": "markdown",
   "id": "addf9136",
   "metadata": {},
   "source": [
    "### Model Training"
   ]
  },
  {
   "cell_type": "code",
   "execution_count": 21,
   "id": "6a6eaf56",
   "metadata": {
    "ExecuteTime": {
     "end_time": "2021-09-24T08:53:48.383118Z",
     "start_time": "2021-09-24T08:53:48.361799Z"
    }
   },
   "outputs": [],
   "source": [
    "log_linearmodel=LinearRegression()"
   ]
  },
  {
   "cell_type": "code",
   "execution_count": 22,
   "id": "9a2f00cd",
   "metadata": {
    "ExecuteTime": {
     "end_time": "2021-09-24T08:53:48.399078Z",
     "start_time": "2021-09-24T08:53:48.383118Z"
    }
   },
   "outputs": [
    {
     "data": {
      "text/plain": [
       "LinearRegression()"
      ]
     },
     "execution_count": 22,
     "metadata": {},
     "output_type": "execute_result"
    }
   ],
   "source": [
    "log_linearmodel.fit(X_train_log,Y_train_log)"
   ]
  },
  {
   "cell_type": "code",
   "execution_count": 23,
   "id": "0189ee06",
   "metadata": {
    "ExecuteTime": {
     "end_time": "2021-09-24T08:53:48.415070Z",
     "start_time": "2021-09-24T08:53:48.407070Z"
    }
   },
   "outputs": [
    {
     "name": "stdout",
     "output_type": "stream",
     "text": [
      "Intercept value of Log Model is [4.84459187]\n",
      "Co-efficient Value of Log Model is [[6.70741116]]\n"
     ]
    }
   ],
   "source": [
    "print(\"Intercept value of Log Model is\",log_linearmodel.intercept_)\n",
    "print(\"Co-efficient Value of Log Model is\",log_linearmodel.coef_)"
   ]
  },
  {
   "cell_type": "markdown",
   "id": "086c2d16",
   "metadata": {},
   "source": [
    "### Model Testing"
   ]
  },
  {
   "cell_type": "code",
   "execution_count": 24,
   "id": "93f9daff",
   "metadata": {
    "ExecuteTime": {
     "end_time": "2021-09-24T08:53:48.431062Z",
     "start_time": "2021-09-24T08:53:48.415070Z"
    }
   },
   "outputs": [
    {
     "data": {
      "text/plain": [
       "array([[16.86265934],\n",
       "       [20.28897683],\n",
       "       [15.63975369],\n",
       "       [14.14303815],\n",
       "       [12.2134362 ],\n",
       "       [17.89661133],\n",
       "       [20.28897683],\n",
       "       [14.14303815],\n",
       "       [17.89661133],\n",
       "       [19.58228053],\n",
       "       [14.14303815],\n",
       "       [18.79226128],\n",
       "       [17.89661133],\n",
       "       [17.89661133],\n",
       "       [16.86265934],\n",
       "       [12.2134362 ]])"
      ]
     },
     "execution_count": 24,
     "metadata": {},
     "output_type": "execute_result"
    }
   ],
   "source": [
    "Ylog_train_pred=log_linearmodel.predict(X_train_log)\n",
    "Ylog_train_pred"
   ]
  },
  {
   "cell_type": "code",
   "execution_count": 25,
   "id": "c5f88432",
   "metadata": {
    "ExecuteTime": {
     "end_time": "2021-09-24T08:53:48.447053Z",
     "start_time": "2021-09-24T08:53:48.431062Z"
    }
   },
   "outputs": [
    {
     "data": {
      "text/plain": [
       "array([[20.28897683],\n",
       "       [12.2134362 ],\n",
       "       [16.86265934],\n",
       "       [ 9.49381501],\n",
       "       [19.58228053]])"
      ]
     },
     "execution_count": 25,
     "metadata": {},
     "output_type": "execute_result"
    }
   ],
   "source": [
    "Ylog_test_pred=log_linearmodel.predict(X_test_log)\n",
    "Ylog_test_pred"
   ]
  },
  {
   "cell_type": "markdown",
   "id": "bb8a3133",
   "metadata": {},
   "source": [
    "### Model Evaluation"
   ]
  },
  {
   "cell_type": "markdown",
   "id": "d78c74bf",
   "metadata": {},
   "source": [
    "Training Data"
   ]
  },
  {
   "cell_type": "code",
   "execution_count": 26,
   "id": "2a344211",
   "metadata": {
    "ExecuteTime": {
     "end_time": "2021-09-24T08:53:48.463055Z",
     "start_time": "2021-09-24T08:53:48.447053Z"
    }
   },
   "outputs": [
    {
     "data": {
      "text/plain": [
       "0.5802496227698564"
      ]
     },
     "execution_count": 26,
     "metadata": {},
     "output_type": "execute_result"
    }
   ],
   "source": [
    "r2_score(Y_train_log,Ylog_train_pred)"
   ]
  },
  {
   "cell_type": "code",
   "execution_count": 27,
   "id": "1d3b4ffa",
   "metadata": {
    "ExecuteTime": {
     "end_time": "2021-09-24T08:53:48.479071Z",
     "start_time": "2021-09-24T08:53:48.463055Z"
    }
   },
   "outputs": [
    {
     "data": {
      "text/plain": [
       "4.756860501558468"
      ]
     },
     "execution_count": 27,
     "metadata": {},
     "output_type": "execute_result"
    }
   ],
   "source": [
    "mean_squared_error(Y_train_log,Ylog_train_pred)"
   ]
  },
  {
   "cell_type": "markdown",
   "id": "bc8351b0",
   "metadata": {},
   "source": [
    "Testing Data"
   ]
  },
  {
   "cell_type": "code",
   "execution_count": 28,
   "id": "e21c2e8b",
   "metadata": {
    "ExecuteTime": {
     "end_time": "2021-09-24T08:53:48.495073Z",
     "start_time": "2021-09-24T08:53:48.479071Z"
    }
   },
   "outputs": [
    {
     "data": {
      "text/plain": [
       "0.6776697647416989"
      ]
     },
     "execution_count": 28,
     "metadata": {},
     "output_type": "execute_result"
    }
   ],
   "source": [
    "r2_score(Y_test_log,Ylog_test_pred)"
   ]
  },
  {
   "cell_type": "code",
   "execution_count": 29,
   "id": "d84691f1",
   "metadata": {
    "ExecuteTime": {
     "end_time": "2021-09-24T08:53:48.503031Z",
     "start_time": "2021-09-24T08:53:48.495073Z"
    }
   },
   "outputs": [
    {
     "data": {
      "text/plain": [
       "21.456105508109967"
      ]
     },
     "execution_count": 29,
     "metadata": {},
     "output_type": "execute_result"
    }
   ],
   "source": [
    "mean_squared_error(Y_test_log,Ylog_test_pred)"
   ]
  },
  {
   "cell_type": "markdown",
   "id": "bf370c22",
   "metadata": {},
   "source": [
    "### Data Transformation-sqrt transformation"
   ]
  },
  {
   "cell_type": "code",
   "execution_count": 30,
   "id": "8c1dd9d4",
   "metadata": {
    "ExecuteTime": {
     "end_time": "2021-09-24T08:53:48.519027Z",
     "start_time": "2021-09-24T08:53:48.503031Z"
    }
   },
   "outputs": [
    {
     "data": {
      "text/plain": [
       "array([[3.16227766],\n",
       "       [2.        ],\n",
       "       [2.44948974],\n",
       "       [3.        ],\n",
       "       [3.16227766],\n",
       "       [2.44948974],\n",
       "       [2.64575131],\n",
       "       [1.73205081],\n",
       "       [3.16227766],\n",
       "       [3.        ],\n",
       "       [2.82842712],\n",
       "       [2.        ],\n",
       "       [2.64575131],\n",
       "       [1.73205081],\n",
       "       [1.73205081],\n",
       "       [2.        ],\n",
       "       [2.44948974],\n",
       "       [2.64575131],\n",
       "       [1.41421356],\n",
       "       [2.64575131],\n",
       "       [2.23606798]])"
      ]
     },
     "execution_count": 30,
     "metadata": {},
     "output_type": "execute_result"
    }
   ],
   "source": [
    "X_sqrt = np.sqrt(time_data['Sorting_time'].values.reshape(-1,1))\n",
    "X_sqrt"
   ]
  },
  {
   "cell_type": "code",
   "execution_count": 31,
   "id": "403287eb",
   "metadata": {
    "ExecuteTime": {
     "end_time": "2021-09-24T08:53:48.532610Z",
     "start_time": "2021-09-24T08:53:48.519027Z"
    }
   },
   "outputs": [
    {
     "data": {
      "text/plain": [
       "array([[21.  ],\n",
       "       [13.5 ],\n",
       "       [19.75],\n",
       "       [24.  ],\n",
       "       [29.  ],\n",
       "       [15.35],\n",
       "       [19.  ],\n",
       "       [ 9.5 ],\n",
       "       [17.9 ],\n",
       "       [18.75],\n",
       "       [19.83],\n",
       "       [10.75],\n",
       "       [16.68],\n",
       "       [11.5 ],\n",
       "       [12.03],\n",
       "       [14.88],\n",
       "       [13.75],\n",
       "       [18.11],\n",
       "       [ 8.  ],\n",
       "       [17.83],\n",
       "       [21.5 ]])"
      ]
     },
     "execution_count": 31,
     "metadata": {},
     "output_type": "execute_result"
    }
   ],
   "source": [
    "y_sqrt =time_data['Delivery_time'].values.reshape(-1,1)\n",
    "y_sqrt"
   ]
  },
  {
   "cell_type": "markdown",
   "id": "a78fa4b5",
   "metadata": {},
   "source": [
    "### Model Building"
   ]
  },
  {
   "cell_type": "code",
   "execution_count": 32,
   "id": "d7889c50",
   "metadata": {
    "ExecuteTime": {
     "end_time": "2021-09-24T08:53:48.548604Z",
     "start_time": "2021-09-24T08:53:48.532610Z"
    }
   },
   "outputs": [],
   "source": [
    "X_train_sqrt,X_test_sqrt,Y_train_sqrt,Y_test_sqrt=train_test_split(X_sqrt,y_sqrt,random_state=123,test_size=0.20)"
   ]
  },
  {
   "cell_type": "markdown",
   "id": "2505929b",
   "metadata": {},
   "source": [
    "### Model Training"
   ]
  },
  {
   "cell_type": "code",
   "execution_count": 33,
   "id": "ac3edc4c",
   "metadata": {
    "ExecuteTime": {
     "end_time": "2021-09-24T08:53:48.564642Z",
     "start_time": "2021-09-24T08:53:48.548604Z"
    }
   },
   "outputs": [],
   "source": [
    "sqrt_linearmodel=LinearRegression()"
   ]
  },
  {
   "cell_type": "code",
   "execution_count": 34,
   "id": "18dc52c1",
   "metadata": {
    "ExecuteTime": {
     "end_time": "2021-09-24T08:53:48.580619Z",
     "start_time": "2021-09-24T08:53:48.564642Z"
    }
   },
   "outputs": [
    {
     "data": {
      "text/plain": [
       "LinearRegression()"
      ]
     },
     "execution_count": 34,
     "metadata": {},
     "output_type": "execute_result"
    }
   ],
   "source": [
    "sqrt_linearmodel.fit(X_train_sqrt,Y_train_sqrt)"
   ]
  },
  {
   "cell_type": "code",
   "execution_count": 35,
   "id": "1067315a",
   "metadata": {
    "ExecuteTime": {
     "end_time": "2021-09-24T08:53:48.598867Z",
     "start_time": "2021-09-24T08:53:48.580619Z"
    }
   },
   "outputs": [
    {
     "name": "stdout",
     "output_type": "stream",
     "text": [
      "Intercept value of Sqrt Model is [3.12070377]\n",
      "Co-efficient Value of Sqrt Model is [[5.51234234]]\n"
     ]
    }
   ],
   "source": [
    "print(\"Intercept value of Sqrt Model is\",sqrt_linearmodel.intercept_)\n",
    "print(\"Co-efficient Value of Sqrt Model is\",sqrt_linearmodel.coef_)"
   ]
  },
  {
   "cell_type": "markdown",
   "id": "5cd7c7fb",
   "metadata": {},
   "source": [
    "### Model Testing"
   ]
  },
  {
   "cell_type": "code",
   "execution_count": 36,
   "id": "18de95a1",
   "metadata": {
    "ExecuteTime": {
     "end_time": "2021-09-24T08:53:48.614831Z",
     "start_time": "2021-09-24T08:53:48.598867Z"
    }
   },
   "outputs": [
    {
     "data": {
      "text/plain": [
       "array([[16.62312978],\n",
       "       [20.55226079],\n",
       "       [15.44667595],\n",
       "       [14.14538844],\n",
       "       [12.66836076],\n",
       "       [17.70499073],\n",
       "       [20.55226079],\n",
       "       [14.14538844],\n",
       "       [17.70499073],\n",
       "       [19.65773078],\n",
       "       [14.14538844],\n",
       "       [18.71196235],\n",
       "       [17.70499073],\n",
       "       [17.70499073],\n",
       "       [16.62312978],\n",
       "       [12.66836076]])"
      ]
     },
     "execution_count": 36,
     "metadata": {},
     "output_type": "execute_result"
    }
   ],
   "source": [
    "Ysqrt_train_pred=sqrt_linearmodel.predict(X_train_sqrt)\n",
    "Ysqrt_train_pred"
   ]
  },
  {
   "cell_type": "code",
   "execution_count": 37,
   "id": "63590113",
   "metadata": {
    "ExecuteTime": {
     "end_time": "2021-09-24T08:53:48.630826Z",
     "start_time": "2021-09-24T08:53:48.614831Z"
    }
   },
   "outputs": [
    {
     "data": {
      "text/plain": [
       "array([[20.55226079],\n",
       "       [12.66836076],\n",
       "       [16.62312978],\n",
       "       [10.91633306],\n",
       "       [19.65773078]])"
      ]
     },
     "execution_count": 37,
     "metadata": {},
     "output_type": "execute_result"
    }
   ],
   "source": [
    "Ysqrt_test_pred=sqrt_linearmodel.predict(X_test_sqrt)\n",
    "Ysqrt_test_pred"
   ]
  },
  {
   "cell_type": "markdown",
   "id": "bf378edc",
   "metadata": {},
   "source": [
    "### Model Evaluation"
   ]
  },
  {
   "cell_type": "markdown",
   "id": "6b305805",
   "metadata": {},
   "source": [
    "Training Data"
   ]
  },
  {
   "cell_type": "code",
   "execution_count": 38,
   "id": "21796a9c",
   "metadata": {
    "ExecuteTime": {
     "end_time": "2021-09-24T08:53:48.646817Z",
     "start_time": "2021-09-24T08:53:48.630826Z"
    }
   },
   "outputs": [
    {
     "data": {
      "text/plain": [
       "0.5524601635081972"
      ]
     },
     "execution_count": 38,
     "metadata": {},
     "output_type": "execute_result"
    }
   ],
   "source": [
    "r2_score(Y_train_sqrt,Ysqrt_train_pred)"
   ]
  },
  {
   "cell_type": "code",
   "execution_count": 39,
   "id": "000aac75",
   "metadata": {
    "ExecuteTime": {
     "end_time": "2021-09-24T08:53:48.662812Z",
     "start_time": "2021-09-24T08:53:48.646817Z"
    }
   },
   "outputs": [
    {
     "data": {
      "text/plain": [
       "5.071787153903027"
      ]
     },
     "execution_count": 39,
     "metadata": {},
     "output_type": "execute_result"
    }
   ],
   "source": [
    "mean_squared_error(Y_train_sqrt,Ysqrt_train_pred)"
   ]
  },
  {
   "cell_type": "markdown",
   "id": "36b22fff",
   "metadata": {},
   "source": [
    "Testing Data"
   ]
  },
  {
   "cell_type": "code",
   "execution_count": 40,
   "id": "001e6209",
   "metadata": {
    "ExecuteTime": {
     "end_time": "2021-09-24T08:53:48.678842Z",
     "start_time": "2021-09-24T08:53:48.662812Z"
    }
   },
   "outputs": [
    {
     "data": {
      "text/plain": [
       "0.6683453086960738"
      ]
     },
     "execution_count": 40,
     "metadata": {},
     "output_type": "execute_result"
    }
   ],
   "source": [
    "r2_score(Y_test_sqrt,Ysqrt_test_pred)"
   ]
  },
  {
   "cell_type": "code",
   "execution_count": 41,
   "id": "888c6d72",
   "metadata": {
    "ExecuteTime": {
     "end_time": "2021-09-24T08:53:48.694862Z",
     "start_time": "2021-09-24T08:53:48.678842Z"
    }
   },
   "outputs": [
    {
     "data": {
      "text/plain": [
       "22.07679351946063"
      ]
     },
     "execution_count": 41,
     "metadata": {},
     "output_type": "execute_result"
    }
   ],
   "source": [
    "mean_squared_error(Y_test_sqrt,Ysqrt_test_pred)"
   ]
  },
  {
   "cell_type": "markdown",
   "id": "1e72ef02",
   "metadata": {},
   "source": [
    "Model without any transformation- R2 score is 68.2%,\n",
    "                                  Mean Squared Error is 351.43\n",
    "\n",
    "                                             "
   ]
  },
  {
   "cell_type": "markdown",
   "id": "d91f87db",
   "metadata": {},
   "source": [
    "Model with log transformation- Training Data- R2 score is 58%,\n",
    "                                              Mean Squared Error is 4.756.\n",
    "Testing Data- R2 score is 67.7%,\n",
    "                                             Mean Squared Error is 21.456.\n",
    "                                           "
   ]
  },
  {
   "cell_type": "markdown",
   "id": "13dc8fdd",
   "metadata": {},
   "source": [
    "Model with sqrt transformation- Training Data- R2 score is 55.2%,\n",
    "                                               Mean Squared Error is 5.071.\n",
    "Testing Data-R2 score is 66.8%,                Mean Squared Error is 22."
   ]
  }
 ],
 "metadata": {
  "kernelspec": {
   "display_name": "Python 3",
   "language": "python",
   "name": "python3"
  },
  "language_info": {
   "codemirror_mode": {
    "name": "ipython",
    "version": 3
   },
   "file_extension": ".py",
   "mimetype": "text/x-python",
   "name": "python",
   "nbconvert_exporter": "python",
   "pygments_lexer": "ipython3",
   "version": "3.8.8"
  },
  "varInspector": {
   "cols": {
    "lenName": 16,
    "lenType": 16,
    "lenVar": 40
   },
   "kernels_config": {
    "python": {
     "delete_cmd_postfix": "",
     "delete_cmd_prefix": "del ",
     "library": "var_list.py",
     "varRefreshCmd": "print(var_dic_list())"
    },
    "r": {
     "delete_cmd_postfix": ") ",
     "delete_cmd_prefix": "rm(",
     "library": "var_list.r",
     "varRefreshCmd": "cat(var_dic_list()) "
    }
   },
   "types_to_exclude": [
    "module",
    "function",
    "builtin_function_or_method",
    "instance",
    "_Feature"
   ],
   "window_display": false
  }
 },
 "nbformat": 4,
 "nbformat_minor": 5
}
